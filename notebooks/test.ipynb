{
 "cells": [
  {
   "cell_type": "code",
   "execution_count": 1,
   "metadata": {},
   "outputs": [],
   "source": [
    "import re\n",
    "from collections import namedtuple"
   ]
  },
  {
   "cell_type": "code",
   "execution_count": 2,
   "metadata": {},
   "outputs": [],
   "source": [
    "from google.cloud.bigquery import Client, Dataset, Table"
   ]
  },
  {
   "cell_type": "code",
   "execution_count": 3,
   "metadata": {},
   "outputs": [],
   "source": [
    "from bigquery_erd.models import Column, Table, Relation\n",
    "from bigquery_erd.main import intermediary_to_schema, intermediary_to_markdown"
   ]
  },
  {
   "cell_type": "code",
   "execution_count": 17,
   "metadata": {},
   "outputs": [],
   "source": [
    "# _DATASET_ID = \"test-project-jjagusch.test_dataset\"\n",
    "_DATASET_ID = \"futbin-scraper-294615.futbin\""
   ]
  },
  {
   "cell_type": "code",
   "execution_count": 18,
   "metadata": {},
   "outputs": [],
   "source": [
    "def get_tables(self, dataset):\n",
    "    return [self.get_table(table) for table in self.list_tables(dataset)]\n",
    "\n",
    "Client.get_tables = get_tables"
   ]
  },
  {
   "cell_type": "code",
   "execution_count": 19,
   "metadata": {},
   "outputs": [
    {
     "name": "stderr",
     "output_type": "stream",
     "text": [
      "/home/jan/projects/bigquery-erd/.venv/lib/python3.8/site-packages/google/auth/_default.py:69: UserWarning: Your application has authenticated using end user credentials from Google Cloud SDK without a quota project. You might receive a \"quota exceeded\" or \"API not enabled\" error. We recommend you rerun `gcloud auth application-default login` and make sure a quota project is added. Or you can use service accounts instead. For more information about service accounts, see https://cloud.google.com/docs/authentication/\n",
      "  warnings.warn(_CLOUD_SDK_CREDENTIALS_WARNING)\n",
      "/home/jan/projects/bigquery-erd/.venv/lib/python3.8/site-packages/google/auth/_default.py:69: UserWarning: Your application has authenticated using end user credentials from Google Cloud SDK without a quota project. You might receive a \"quota exceeded\" or \"API not enabled\" error. We recommend you rerun `gcloud auth application-default login` and make sure a quota project is added. Or you can use service accounts instead. For more information about service accounts, see https://cloud.google.com/docs/authentication/\n",
      "  warnings.warn(_CLOUD_SDK_CREDENTIALS_WARNING)\n"
     ]
    }
   ],
   "source": [
    "client = Client()"
   ]
  },
  {
   "cell_type": "code",
   "execution_count": 26,
   "metadata": {},
   "outputs": [],
   "source": [
    "tables = client.get_tables(_DATASET_ID)"
   ]
  },
  {
   "cell_type": "code",
   "execution_count": 21,
   "metadata": {},
   "outputs": [],
   "source": [
    "BQColumn = namedtuple(\"BQColumn\", (\"name\", \"field_type\", \"mode\", \"description\"))\n",
    "\n",
    "def walk_columns(fields, name_prefix=\"\"):\n",
    "    for col in fields:\n",
    "        name = \".\".join((name_prefix, col.name)) if name_prefix else col.name\n",
    "        yield BQColumn(name, col.field_type, col.mode, col.description)\n",
    "        if col.fields:\n",
    "            # new_name_prefix = \".\".join((name_prefix, col.name)) if name_prefix else col.name\n",
    "            for col in walk_columns(col.fields, name):\n",
    "                yield col"
   ]
  },
  {
   "cell_type": "code",
   "execution_count": 28,
   "metadata": {},
   "outputs": [],
   "source": [
    "_PATTERN = re.compile(r\"^->\\s([?*+1 ]:[?*+1 ]\\s)?(.*\\.)?(.*)\\.(.*)$\")\n",
    "_DEFAULT_CARDINALITY = (\"*\", \"1\")\n",
    "\n",
    "def _process_relation(column_description, right_dataset, right_table):\n",
    "    if not column_description:\n",
    "        return\n",
    "    result = re.search(_PATTERN, column_description)\n",
    "    if not result:\n",
    "        return\n",
    "    cardinality = result.group(1)\n",
    "    cardinality = tuple(cardinality.strip().split(\":\")) if cardinality else _DEFAULT_CARDINALITY\n",
    "    left_dataset = result.group(2)\n",
    "    left_dataset = left_dataset.strip(\".\") if left_dataset else right_dataset\n",
    "    left_table = result.group(3)\n",
    "    return Relation(\n",
    "        left_col=f\"{left_dataset}.{left_table}\",\n",
    "        right_col=f\"{right_dataset}.{right_table}\",\n",
    "        left_cardinality=cardinality[1],\n",
    "        right_cardinality=cardinality[0],\n",
    "    )"
   ]
  },
  {
   "cell_type": "code",
   "execution_count": 29,
   "metadata": {},
   "outputs": [],
   "source": [
    "def _process_column_type(column):\n",
    "    mode = column.mode\n",
    "    if mode:\n",
    "        return f\"{mode}({column.field_type})\"\n",
    "    return column.field_type\n",
    "\n",
    "def _process_column_is_key(column):\n",
    "    return False\n",
    "\n",
    "def _process_table(table):\n",
    "    columns = [Column(col.name, _process_column_type(col), _process_column_is_key(col)) for col in walk_columns(table.schema)]\n",
    "    table = Table(f\"{table.dataset_id}.{table.table_id}\", columns)\n",
    "    return table\n",
    "\n",
    "def _process_tables(tables):\n",
    "    tables_ = [_process_table(table) for table in tables]\n",
    "    relations = [_process_relation(col.description, table.dataset_id, table.table_id) for table in tables for col in walk_columns(table.schema)]\n",
    "    relations = [relation for relation in relations if relation]\n",
    "    return tables_, relations"
   ]
  },
  {
   "cell_type": "code",
   "execution_count": 35,
   "metadata": {},
   "outputs": [],
   "source": [
    "intermediary_to_schema(*_process_tables([table for table in tables if table.table_id.endswith(\"latest\")]), \"test.png\")"
   ]
  },
  {
   "cell_type": "code",
   "execution_count": 36,
   "metadata": {},
   "outputs": [],
   "source": [
    "intermediary_to_markdown(*_process_tables([table for table in tables if table.table_id.endswith(\"latest\")]), \"test.md\")"
   ]
  }
 ],
 "metadata": {
  "kernelspec": {
   "display_name": "bigquery-erd",
   "language": "python",
   "name": "bigquery-erd"
  },
  "language_info": {
   "codemirror_mode": {
    "name": "ipython",
    "version": 3
   },
   "file_extension": ".py",
   "mimetype": "text/x-python",
   "name": "python",
   "nbconvert_exporter": "python",
   "pygments_lexer": "ipython3",
   "version": "3.8.5"
  }
 },
 "nbformat": 4,
 "nbformat_minor": 4
}
