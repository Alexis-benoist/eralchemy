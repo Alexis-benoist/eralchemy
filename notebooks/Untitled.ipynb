{
 "cells": [
  {
   "cell_type": "code",
   "execution_count": null,
   "metadata": {},
   "outputs": [],
   "source": [
    "import re"
   ]
  },
  {
   "cell_type": "code",
   "execution_count": null,
   "metadata": {},
   "outputs": [],
   "source": [
    "from google.cloud.bigquery import Client, Dataset, Table"
   ]
  },
  {
   "cell_type": "code",
   "execution_count": null,
   "metadata": {},
   "outputs": [],
   "source": [
    "_DATASET_ID = \"data-lake-prod-9647.platform\""
   ]
  },
  {
   "cell_type": "code",
   "execution_count": null,
   "metadata": {},
   "outputs": [],
   "source": [
    "def get_tables(self, dataset):\n",
    "    return [self.get_table(table) for table in self.list_tables(dataset)]\n",
    "\n",
    "Client.get_tables = get_tables"
   ]
  },
  {
   "cell_type": "code",
   "execution_count": null,
   "metadata": {},
   "outputs": [],
   "source": [
    "client = Client()"
   ]
  },
  {
   "cell_type": "code",
   "execution_count": null,
   "metadata": {},
   "outputs": [],
   "source": [
    "client.get_tables(_DATASET_ID)"
   ]
  },
  {
   "cell_type": "code",
   "execution_count": null,
   "metadata": {},
   "outputs": [],
   "source": [
    "_PATTERN = re.compile(r\"^->\\s([?*+1 ]:[?*+1 ]\\s)?(.*\\.)?(.*)\\.(.*)$\")"
   ]
  },
  {
   "cell_type": "code",
   "execution_count": null,
   "metadata": {},
   "outputs": [],
   "source": [
    "def _process_relation(description):\n",
    "    result = re.search(_PATTERN, description)\n",
    "    cardinality = result.group(1)\n",
    "    cardinality = tuple(cardinality.strip().split(\":\")) if cardinality else cardinality\n",
    "    dataset = result.group(2)\n",
    "    dataset = dataset.strip(\".\") if dataset else dataset\n",
    "    table = result.group(3)\n",
    "    column = result.group(4)\n",
    "    return {\n",
    "        \"cardinality\": cardinality,\n",
    "        \"right_dataset\": dataset,\n",
    "        \"right_table\": table,\n",
    "        \"right_column\": column,\n",
    "    }\n",
    "    return cardinality, dataset, table, column\n",
    "    return result.group(1), result.group(2), result.group(3), result.group(4)\n",
    "    "
   ]
  },
  {
   "cell_type": "code",
   "execution_count": null,
   "metadata": {},
   "outputs": [],
   "source": [
    "_process_description(\"-> 1:* platform.jobs.id\")"
   ]
  },
  {
   "cell_type": "code",
   "execution_count": null,
   "metadata": {},
   "outputs": [],
   "source": [
    "_process_description(\"-> platform.jobs.id\")"
   ]
  },
  {
   "cell_type": "code",
   "execution_count": null,
   "metadata": {},
   "outputs": [],
   "source": [
    "_process_description(\"-> jobs.id\")"
   ]
  },
  {
   "cell_type": "code",
   "execution_count": null,
   "metadata": {},
   "outputs": [],
   "source": [
    "def _map_column_type(column_type):\n",
    "    return column_type\n",
    "\n",
    "def _process_is_key(description):\n",
    "    return False\n",
    "    \n",
    "\n",
    "def _process_column(column):\n",
    "    column_name = column.name\n",
    "    column_type = _map_column_type(column.field_type)\n",
    "    is_key = _process_is_key(column.description)\n",
    "    \n",
    "    relations = _process_description(column.description)\n",
    "    \n",
    "    \n",
    "\n",
    "def _process_table(table)\n",
    "    dataset_id = table.dataset_id\n",
    "    table_id = table.table_id\n"
   ]
  }
 ],
 "metadata": {
  "kernelspec": {
   "display_name": "bigquery-erd",
   "language": "python",
   "name": "bigquery-erd"
  },
  "language_info": {
   "codemirror_mode": {
    "name": "ipython",
    "version": 3
   },
   "file_extension": ".py",
   "mimetype": "text/x-python",
   "name": "python",
   "nbconvert_exporter": "python",
   "pygments_lexer": "ipython3",
   "version": "3.8.6"
  }
 },
 "nbformat": 4,
 "nbformat_minor": 4
}
